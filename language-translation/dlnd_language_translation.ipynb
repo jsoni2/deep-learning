{
 "cells": [
  {
   "cell_type": "markdown",
   "metadata": {
    "collapsed": true
   },
   "source": [
    "# Language Translation\n",
    "In this project, you’re going to take a peek into the realm of neural network machine translation.  You’ll be training a sequence to sequence model on a dataset of English and French sentences that can translate new sentences from English to French.\n",
    "## Get the Data\n",
    "Since translating the whole language of English to French will take lots of time to train, we have provided you with a small portion of the English corpus."
   ]
  },
  {
   "cell_type": "code",
   "execution_count": 150,
   "metadata": {
    "collapsed": true
   },
   "outputs": [],
   "source": [
    "\"\"\"\n",
    "DON'T MODIFY ANYTHING IN THIS CELL\n",
    "\"\"\"\n",
    "import helper\n",
    "import problem_unittests as tests\n",
    "\n",
    "source_path = 'data/small_vocab_en'\n",
    "target_path = 'data/small_vocab_fr'\n",
    "source_text = helper.load_data(source_path)\n",
    "target_text = helper.load_data(target_path)"
   ]
  },
  {
   "cell_type": "markdown",
   "metadata": {},
   "source": [
    "## Explore the Data\n",
    "Play around with view_sentence_range to view different parts of the data."
   ]
  },
  {
   "cell_type": "code",
   "execution_count": 151,
   "metadata": {},
   "outputs": [
    {
     "name": "stdout",
     "output_type": "stream",
     "text": [
      "Dataset Stats\n",
      "Roughly the number of unique words: 227\n",
      "Number of sentences: 137861\n",
      "Average number of words in a sentence: 13.225277634719028\n",
      "\n",
      "English sentences 9 to 10:\n",
      "the united states is sometimes busy during january , and it is sometimes warm in november .\n",
      "\n",
      "French sentences 9 to 10:\n",
      "les états-unis est parfois occupé en janvier , et il est parfois chaud en novembre .\n"
     ]
    }
   ],
   "source": [
    "view_sentence_range = (9, 10)\n",
    "\n",
    "\"\"\"\n",
    "DON'T MODIFY ANYTHING IN THIS CELL\n",
    "\"\"\"\n",
    "import numpy as np\n",
    "\n",
    "print('Dataset Stats')\n",
    "print('Roughly the number of unique words: {}'.format(len({word: None for word in source_text.split()})))\n",
    "\n",
    "sentences = source_text.split('\\n')\n",
    "word_counts = [len(sentence.split()) for sentence in sentences]\n",
    "print('Number of sentences: {}'.format(len(sentences)))\n",
    "print('Average number of words in a sentence: {}'.format(np.average(word_counts)))\n",
    "\n",
    "print()\n",
    "print('English sentences {} to {}:'.format(*view_sentence_range))\n",
    "print('\\n'.join(source_text.split('\\n')[view_sentence_range[0]:view_sentence_range[1]]))\n",
    "print()\n",
    "print('French sentences {} to {}:'.format(*view_sentence_range))\n",
    "print('\\n'.join(target_text.split('\\n')[view_sentence_range[0]:view_sentence_range[1]]))"
   ]
  },
  {
   "cell_type": "markdown",
   "metadata": {},
   "source": [
    "## Implement Preprocessing Function\n",
    "### Text to Word Ids\n",
    "As you did with other RNNs, you must turn the text into a number so the computer can understand it. In the function `text_to_ids()`, you'll turn `source_text` and `target_text` from words to ids.  However, you need to add the `<EOS>` word id at the end of `target_text`.  This will help the neural network predict when the sentence should end.\n",
    "\n",
    "You can get the `<EOS>` word id by doing:\n",
    "```python\n",
    "target_vocab_to_int['<EOS>']\n",
    "```\n",
    "You can get other word ids using `source_vocab_to_int` and `target_vocab_to_int`."
   ]
  },
  {
   "cell_type": "code",
   "execution_count": 152,
   "metadata": {},
   "outputs": [
    {
     "name": "stdout",
     "output_type": "stream",
     "text": [
      "Tests Passed\n"
     ]
    }
   ],
   "source": [
    "def get_id_text(input, vocab_to_int):\n",
    "    return [[vocab_to_int[word] for word in sentence.split()] for sentence in input]\n",
    "\n",
    "\n",
    "def text_to_ids(source_text, target_text, source_vocab_to_int, target_vocab_to_int):\n",
    "    \"\"\"\n",
    "    Convert source and target text to proper word ids\n",
    "    :param source_text: String that contains all the source text.\n",
    "    :param target_text: String that contains all the target text.\n",
    "    :param source_vocab_to_int: Dictionary to go from the source words to an id\n",
    "    :param target_vocab_to_int: Dictionary to go from the target words to an id\n",
    "    :return: A tuple of lists (source_id_text, target_id_text)\n",
    "    \"\"\"\n",
    "    # TODO: Implement Function\n",
    "    source_sentences = [sentence for sentence in source_text.split('\\n')]\n",
    "    target_sentences = [sentence + ' <EOS>' for sentence in target_text.split('\\n')]\n",
    "    source_id_text = get_id_text(source_sentences, source_vocab_to_int)\n",
    "    target_id_text = get_id_text(target_sentences, target_vocab_to_int)\n",
    "    return source_id_text, target_id_text\n",
    "\n",
    "\"\"\"\n",
    "DON'T MODIFY ANYTHING IN THIS CELL THAT IS BELOW THIS LINE\n",
    "\"\"\"\n",
    "tests.test_text_to_ids(text_to_ids)"
   ]
  },
  {
   "cell_type": "markdown",
   "metadata": {},
   "source": [
    "### Preprocess all the data and save it\n",
    "Running the code cell below will preprocess all the data and save it to file."
   ]
  },
  {
   "cell_type": "code",
   "execution_count": 153,
   "metadata": {
    "collapsed": true
   },
   "outputs": [],
   "source": [
    "\"\"\"\n",
    "DON'T MODIFY ANYTHING IN THIS CELL\n",
    "\"\"\"\n",
    "helper.preprocess_and_save_data(source_path, target_path, text_to_ids)"
   ]
  },
  {
   "cell_type": "markdown",
   "metadata": {},
   "source": [
    "# Check Point\n",
    "This is your first checkpoint. If you ever decide to come back to this notebook or have to restart the notebook, you can start from here. The preprocessed data has been saved to disk."
   ]
  },
  {
   "cell_type": "code",
   "execution_count": 154,
   "metadata": {
    "collapsed": true
   },
   "outputs": [],
   "source": [
    "\"\"\"\n",
    "DON'T MODIFY ANYTHING IN THIS CELL\n",
    "\"\"\"\n",
    "import numpy as np\n",
    "import helper\n",
    "import problem_unittests as tests\n",
    "\n",
    "(source_int_text, target_int_text), (source_vocab_to_int, target_vocab_to_int), _ = helper.load_preprocess()"
   ]
  },
  {
   "cell_type": "markdown",
   "metadata": {},
   "source": [
    "### Check the Version of TensorFlow and Access to GPU\n",
    "This will check to make sure you have the correct version of TensorFlow and access to a GPU"
   ]
  },
  {
   "cell_type": "code",
   "execution_count": 155,
   "metadata": {},
   "outputs": [
    {
     "name": "stdout",
     "output_type": "stream",
     "text": [
      "TensorFlow Version: 1.1.0\n",
      "Default GPU Device: /gpu:0\n"
     ]
    }
   ],
   "source": [
    "\"\"\"\n",
    "DON'T MODIFY ANYTHING IN THIS CELL\n",
    "\"\"\"\n",
    "from distutils.version import LooseVersion\n",
    "import warnings\n",
    "import tensorflow as tf\n",
    "from tensorflow.python.layers.core import Dense\n",
    "\n",
    "# Check TensorFlow Version\n",
    "assert LooseVersion(tf.__version__) >= LooseVersion('1.1'), 'Please use TensorFlow version 1.1 or newer'\n",
    "print('TensorFlow Version: {}'.format(tf.__version__))\n",
    "\n",
    "# Check for a GPU\n",
    "if not tf.test.gpu_device_name():\n",
    "    warnings.warn('No GPU found. Please use a GPU to train your neural network.')\n",
    "else:\n",
    "    print('Default GPU Device: {}'.format(tf.test.gpu_device_name()))"
   ]
  },
  {
   "cell_type": "markdown",
   "metadata": {},
   "source": [
    "## Build the Neural Network\n",
    "You'll build the components necessary to build a Sequence-to-Sequence model by implementing the following functions below:\n",
    "- `model_inputs`\n",
    "- `process_decoder_input`\n",
    "- `encoding_layer`\n",
    "- `decoding_layer_train`\n",
    "- `decoding_layer_infer`\n",
    "- `decoding_layer`\n",
    "- `seq2seq_model`\n",
    "\n",
    "### Input\n",
    "Implement the `model_inputs()` function to create TF Placeholders for the Neural Network. It should create the following placeholders:\n",
    "\n",
    "- Input text placeholder named \"input\" using the TF Placeholder name parameter with rank 2.\n",
    "- Targets placeholder with rank 2.\n",
    "- Learning rate placeholder with rank 0.\n",
    "- Keep probability placeholder named \"keep_prob\" using the TF Placeholder name parameter with rank 0.\n",
    "- Target sequence length placeholder named \"target_sequence_length\" with rank 1\n",
    "- Max target sequence length tensor named \"max_target_len\" getting its value from applying tf.reduce_max on the target_sequence_length placeholder. Rank 0.\n",
    "- Source sequence length placeholder named \"source_sequence_length\" with rank 1\n",
    "\n",
    "Return the placeholders in the following the tuple (input, targets, learning rate, keep probability, target sequence length, max target sequence length, source sequence length)"
   ]
  },
  {
   "cell_type": "code",
   "execution_count": 156,
   "metadata": {},
   "outputs": [
    {
     "name": "stdout",
     "output_type": "stream",
     "text": [
      "Tests Passed\n"
     ]
    }
   ],
   "source": [
    "def model_inputs():\n",
    "    \"\"\"\n",
    "    Create TF Placeholders for input, targets, learning rate, and lengths of source and target sequences.\n",
    "    :return: Tuple (input, targets, learning rate, keep probability, target sequence length,\n",
    "    max target sequence length, source sequence length)\n",
    "    \"\"\"\n",
    "    # TODO: Implement Function\n",
    "    input_data = tf.placeholder(tf.int32, [None, None], name='input')\n",
    "    targets = tf.placeholder(tf.int32, [None, None], name='targets')\n",
    "    learning_rate = tf.placeholder(tf.float32, name='learning_rate')\n",
    "    keep_prob = tf.placeholder(tf.float32, name='keep_prob')\n",
    "    target_sequence_length = tf.placeholder(tf.int32, [None], name='target_sequence_length')\n",
    "    max_target_sequence_length = tf.reduce_max(target_sequence_length, name='max_target_len')\n",
    "    source_sequence_length = tf.placeholder(tf.int32, [None], name='source_sequence_length')\n",
    "    \n",
    "    return input_data, targets, learning_rate, keep_prob, target_sequence_length, max_target_sequence_length, source_sequence_length\n",
    "\n",
    "\n",
    "\"\"\"\n",
    "DON'T MODIFY ANYTHING IN THIS CELL THAT IS BELOW THIS LINE\n",
    "\"\"\"\n",
    "tests.test_model_inputs(model_inputs)"
   ]
  },
  {
   "cell_type": "markdown",
   "metadata": {},
   "source": [
    "### Process Decoder Input\n",
    "Implement `process_decoder_input` by removing the last word id from each batch in `target_data` and concat the GO ID to the begining of each batch."
   ]
  },
  {
   "cell_type": "code",
   "execution_count": 157,
   "metadata": {},
   "outputs": [
    {
     "name": "stdout",
     "output_type": "stream",
     "text": [
      "Tests Passed\n"
     ]
    }
   ],
   "source": [
    "def process_decoder_input(target_data, target_vocab_to_int, batch_size):\n",
    "    \"\"\"\n",
    "    Preprocess target data for encoding\n",
    "    :param target_data: Target Placehoder\n",
    "    :param target_vocab_to_int: Dictionary to go from the target words to an id\n",
    "    :param batch_size: Batch Size\n",
    "    :return: Preprocessed target data\n",
    "    \"\"\"\n",
    "    # TODO: Implement Function\n",
    "    go = target_vocab_to_int['<GO>']\n",
    "    ending = tf.strided_slice(target_data, [0,0], [batch_size,-1], [1,1])\n",
    "    decoder_input = tf.concat([tf.fill([batch_size,1], go), ending], 1)\n",
    "    return decoder_input\n",
    "\n",
    "\"\"\"\n",
    "DON'T MODIFY ANYTHING IN THIS CELL THAT IS BELOW THIS LINE\n",
    "\"\"\"\n",
    "tests.test_process_encoding_input(process_decoder_input)"
   ]
  },
  {
   "cell_type": "markdown",
   "metadata": {},
   "source": [
    "### Encoding\n",
    "Implement `encoding_layer()` to create a Encoder RNN layer:\n",
    " * Embed the encoder input using [`tf.contrib.layers.embed_sequence`](https://www.tensorflow.org/api_docs/python/tf/contrib/layers/embed_sequence)\n",
    " * Construct a [stacked](https://github.com/tensorflow/tensorflow/blob/6947f65a374ebf29e74bb71e36fd82760056d82c/tensorflow/docs_src/tutorials/recurrent.md#stacking-multiple-lstms) [`tf.contrib.rnn.LSTMCell`](https://www.tensorflow.org/api_docs/python/tf/contrib/rnn/LSTMCell) wrapped in a [`tf.contrib.rnn.DropoutWrapper`](https://www.tensorflow.org/api_docs/python/tf/contrib/rnn/DropoutWrapper)\n",
    " * Pass cell and embedded input to [`tf.nn.dynamic_rnn()`](https://www.tensorflow.org/api_docs/python/tf/nn/dynamic_rnn)"
   ]
  },
  {
   "cell_type": "code",
   "execution_count": 158,
   "metadata": {
    "scrolled": false
   },
   "outputs": [
    {
     "name": "stdout",
     "output_type": "stream",
     "text": [
      "Tests Passed\n"
     ]
    }
   ],
   "source": [
    "from imp import reload\n",
    "reload(tests)\n",
    "\n",
    "def encoding_layer(rnn_inputs, rnn_size, num_layers, keep_prob, \n",
    "                   source_sequence_length, source_vocab_size, \n",
    "                   encoding_embedding_size):\n",
    "    \"\"\"\n",
    "    Create encoding layer\n",
    "    :param rnn_inputs: Inputs for the RNN\n",
    "    :param rnn_size: RNN Size\n",
    "    :param num_layers: Number of layers\n",
    "    :param keep_prob: Dropout keep probability\n",
    "    :param source_sequence_length: a list of the lengths of each sequence in the batch\n",
    "    :param source_vocab_size: vocabulary size of source data\n",
    "    :param encoding_embedding_size: embedding size of source data\n",
    "    :return: tuple (RNN output, RNN state)\n",
    "    \"\"\"\n",
    "    # TODO: Implement Function\n",
    "    embedding = tf.contrib.layers.embed_sequence(rnn_inputs, vocab_size=source_vocab_size, embed_dim=encoding_embedding_size,trainable=False)\n",
    "    stacked_lstm = [tf.contrib.rnn.DropoutWrapper(tf.contrib.rnn.LSTMCell(rnn_size), input_keep_prob=keep_prob) for _ in range(num_layers)]\n",
    "    lstm_cell = tf.contrib.rnn.MultiRNNCell(stacked_lstm)\n",
    "    rnn_output, rnn_state = tf.nn.dynamic_rnn(lstm_cell, embedding, sequence_length=source_sequence_length, dtype=tf.float32)\n",
    "    \n",
    "    return rnn_output, rnn_state\n",
    "\n",
    "\"\"\"\n",
    "DON'T MODIFY ANYTHING IN THIS CELL THAT IS BELOW THIS LINE\n",
    "\"\"\"\n",
    "tests.test_encoding_layer(encoding_layer)"
   ]
  },
  {
   "cell_type": "markdown",
   "metadata": {},
   "source": [
    "### Decoding - Training\n",
    "Create a training decoding layer:\n",
    "* Create a [`tf.contrib.seq2seq.TrainingHelper`](https://www.tensorflow.org/api_docs/python/tf/contrib/seq2seq/TrainingHelper) \n",
    "* Create a [`tf.contrib.seq2seq.BasicDecoder`](https://www.tensorflow.org/api_docs/python/tf/contrib/seq2seq/BasicDecoder)\n",
    "* Obtain the decoder outputs from [`tf.contrib.seq2seq.dynamic_decode`](https://www.tensorflow.org/api_docs/python/tf/contrib/seq2seq/dynamic_decode)"
   ]
  },
  {
   "cell_type": "code",
   "execution_count": 159,
   "metadata": {},
   "outputs": [
    {
     "name": "stdout",
     "output_type": "stream",
     "text": [
      "Tests Passed\n"
     ]
    }
   ],
   "source": [
    "\n",
    "def decoding_layer_train(encoder_state, dec_cell, dec_embed_input, \n",
    "                         target_sequence_length, max_summary_length, \n",
    "                         output_layer, keep_prob):\n",
    "    \"\"\"\n",
    "    Create a decoding layer for training\n",
    "    :param encoder_state: Encoder State\n",
    "    :param dec_cell: Decoder RNN Cell\n",
    "    :param dec_embed_input: Decoder embedded input\n",
    "    :param target_sequence_length: The lengths of each sequence in the target batch\n",
    "    :param max_summary_length: The length of the longest sequence in the batch\n",
    "    :param output_layer: Function to apply the output layer\n",
    "    :param keep_prob: Dropout keep probability\n",
    "    :return: BasicDecoderOutput containing training logits and sample_id\n",
    "    \"\"\"\n",
    "    # TODO: Implement Function\n",
    "    training_helper = tf.contrib.seq2seq.TrainingHelper(dec_embed_input, target_sequence_length)\n",
    "    training_decoder = tf.contrib.seq2seq.BasicDecoder(dec_cell, training_helper, encoder_state, output_layer)\n",
    "    decoder_output, _ = tf.contrib.seq2seq.dynamic_decode(training_decoder, impute_finished=True, maximum_iterations=max_summary_length)\n",
    "    return decoder_output\n",
    "\n",
    "\n",
    "\n",
    "\"\"\"\n",
    "DON'T MODIFY ANYTHING IN THIS CELL THAT IS BELOW THIS LINE\n",
    "\"\"\"\n",
    "tests.test_decoding_layer_train(decoding_layer_train)"
   ]
  },
  {
   "cell_type": "markdown",
   "metadata": {},
   "source": [
    "### Decoding - Inference\n",
    "Create inference decoder:\n",
    "* Create a [`tf.contrib.seq2seq.GreedyEmbeddingHelper`](https://www.tensorflow.org/api_docs/python/tf/contrib/seq2seq/GreedyEmbeddingHelper)\n",
    "* Create a [`tf.contrib.seq2seq.BasicDecoder`](https://www.tensorflow.org/api_docs/python/tf/contrib/seq2seq/BasicDecoder)\n",
    "* Obtain the decoder outputs from [`tf.contrib.seq2seq.dynamic_decode`](https://www.tensorflow.org/api_docs/python/tf/contrib/seq2seq/dynamic_decode)"
   ]
  },
  {
   "cell_type": "code",
   "execution_count": 160,
   "metadata": {
    "scrolled": true
   },
   "outputs": [
    {
     "name": "stdout",
     "output_type": "stream",
     "text": [
      "Tests Passed\n"
     ]
    }
   ],
   "source": [
    "def decoding_layer_infer(encoder_state, dec_cell, dec_embeddings, start_of_sequence_id,\n",
    "                         end_of_sequence_id, max_target_sequence_length,\n",
    "                         vocab_size, output_layer, batch_size, keep_prob):\n",
    "    \"\"\"\n",
    "    Create a decoding layer for inference\n",
    "    :param encoder_state: Encoder state\n",
    "    :param dec_cell: Decoder RNN Cell\n",
    "    :param dec_embeddings: Decoder embeddings\n",
    "    :param start_of_sequence_id: GO ID\n",
    "    :param end_of_sequence_id: EOS Id\n",
    "    :param max_target_sequence_length: Maximum length of target sequences\n",
    "    :param vocab_size: Size of decoder/target vocabulary\n",
    "    :param decoding_scope: TenorFlow Variable Scope for decoding\n",
    "    :param output_layer: Function to apply the output layer\n",
    "    :param batch_size: Batch size\n",
    "    :param keep_prob: Dropout keep probability\n",
    "    :return: BasicDecoderOutput containing inference logits and sample_id\n",
    "    \"\"\"\n",
    "    # TODO: Implement Function\n",
    "    start_tokens = tf.tile(tf.constant([start_of_sequence_id], dtype=tf.int32),[batch_size],name='start_token')\n",
    "    inference_helper = tf.contrib.seq2seq.GreedyEmbeddingHelper(dec_embeddings, start_tokens, end_of_sequence_id)\n",
    "    inference_decoder = tf.contrib.seq2seq.BasicDecoder(dec_cell, inference_helper, encoder_state, output_layer)\n",
    "    inference_decoder_output, _ = tf.contrib.seq2seq.dynamic_decode(inference_decoder, impute_finished=True, maximum_iterations=max_target_sequence_length)\n",
    "    return inference_decoder_output\n",
    "\n",
    "\n",
    "\n",
    "\"\"\"\n",
    "DON'T MODIFY ANYTHING IN THIS CELL THAT IS BELOW THIS LINE\n",
    "\"\"\"\n",
    "tests.test_decoding_layer_infer(decoding_layer_infer)"
   ]
  },
  {
   "cell_type": "markdown",
   "metadata": {},
   "source": [
    "### Build the Decoding Layer\n",
    "Implement `decoding_layer()` to create a Decoder RNN layer.\n",
    "\n",
    "* Embed the target sequences\n",
    "* Construct the decoder LSTM cell (just like you constructed the encoder cell above)\n",
    "* Create an output layer to map the outputs of the decoder to the elements of our vocabulary\n",
    "* Use the your `decoding_layer_train(encoder_state, dec_cell, dec_embed_input, target_sequence_length, max_target_sequence_length, output_layer, keep_prob)` function to get the training logits.\n",
    "* Use your `decoding_layer_infer(encoder_state, dec_cell, dec_embeddings, start_of_sequence_id, end_of_sequence_id, max_target_sequence_length, vocab_size, output_layer, batch_size, keep_prob)` function to get the inference logits.\n",
    "\n",
    "Note: You'll need to use [tf.variable_scope](https://www.tensorflow.org/api_docs/python/tf/variable_scope) to share variables between training and inference."
   ]
  },
  {
   "cell_type": "code",
   "execution_count": 161,
   "metadata": {},
   "outputs": [
    {
     "name": "stdout",
     "output_type": "stream",
     "text": [
      "Tests Passed\n"
     ]
    }
   ],
   "source": [
    "from tensorflow.python.layers.core import Dense\n",
    "\n",
    "def decoding_layer(dec_input, encoder_state,\n",
    "                   target_sequence_length, max_target_sequence_length,\n",
    "                   rnn_size,\n",
    "                   num_layers, target_vocab_to_int, target_vocab_size,\n",
    "                   batch_size, keep_prob, decoding_embedding_size):\n",
    "    \"\"\"\n",
    "    Create decoding layer\n",
    "    :param dec_input: Decoder input\n",
    "    :param encoder_state: Encoder state\n",
    "    :param target_sequence_length: The lengths of each sequence in the target batch\n",
    "    :param max_target_sequence_length: Maximum length of target sequences\n",
    "    :param rnn_size: RNN Size\n",
    "    :param num_layers: Number of layers\n",
    "    :param target_vocab_to_int: Dictionary to go from the target words to an id\n",
    "    :param target_vocab_size: Size of target vocabulary\n",
    "    :param batch_size: The size of the batch\n",
    "    :param keep_prob: Dropout keep probability\n",
    "    :param decoding_embedding_size: Decoding embedding size\n",
    "    :return: Tuple of (Training BasicDecoderOutput, Inference BasicDecoderOutput)\n",
    "    \"\"\"\n",
    "    dec_embeddings = tf.Variable(tf.random_uniform([target_vocab_size, decoding_embedding_size]))\n",
    "    dec_embed_input = tf.nn.embedding_lookup(dec_embeddings, dec_input)\n",
    "    \n",
    "    stacked_lstm = [tf.contrib.rnn.DropoutWrapper(tf.contrib.rnn.LSTMCell(rnn_size), input_keep_prob=keep_prob) for _ in range(num_layers)]\n",
    "    dec_cell = tf.contrib.rnn.MultiRNNCell(stacked_lstm)\n",
    "    \n",
    "    output_layer = Dense(target_vocab_size)\n",
    "    \n",
    "    with tf.variable_scope(\"decode\"):\n",
    "        training_logits = decoding_layer_train(encoder_state, dec_cell, dec_embed_input, target_sequence_length, max_target_sequence_length, output_layer, keep_prob)\n",
    "        \n",
    "    with tf.variable_scope(\"decode\", reuse=True):\n",
    "        inference_logits = decoding_layer_infer(encoder_state, dec_cell, dec_embeddings, target_vocab_to_int['<GO>'], target_vocab_to_int['<EOS>'], max_target_sequence_length, target_vocab_size, output_layer, batch_size, keep_prob)\n",
    "        \n",
    "    return training_logits, inference_logits\n",
    "\n",
    "\n",
    "\"\"\"\n",
    "DON'T MODIFY ANYTHING IN THIS CELL THAT IS BELOW THIS LINE\n",
    "\"\"\"\n",
    "tests.test_decoding_layer(decoding_layer)"
   ]
  },
  {
   "cell_type": "markdown",
   "metadata": {},
   "source": [
    "### Build the Neural Network\n",
    "Apply the functions you implemented above to:\n",
    "\n",
    "- Encode the input using your `encoding_layer(rnn_inputs, rnn_size, num_layers, keep_prob,  source_sequence_length, source_vocab_size, encoding_embedding_size)`.\n",
    "- Process target data using your `process_decoder_input(target_data, target_vocab_to_int, batch_size)` function.\n",
    "- Decode the encoded input using your `decoding_layer(dec_input, enc_state, target_sequence_length, max_target_sentence_length, rnn_size, num_layers, target_vocab_to_int, target_vocab_size, batch_size, keep_prob, dec_embedding_size)` function."
   ]
  },
  {
   "cell_type": "code",
   "execution_count": 162,
   "metadata": {},
   "outputs": [
    {
     "name": "stdout",
     "output_type": "stream",
     "text": [
      "Tests Passed\n"
     ]
    }
   ],
   "source": [
    "def seq2seq_model(input_data, target_data, keep_prob, batch_size,\n",
    "                  source_sequence_length, target_sequence_length,\n",
    "                  max_target_sentence_length,\n",
    "                  source_vocab_size, target_vocab_size,\n",
    "                  enc_embedding_size, dec_embedding_size,\n",
    "                  rnn_size, num_layers, target_vocab_to_int):\n",
    "    \"\"\"\n",
    "    Build the Sequence-to-Sequence part of the neural network\n",
    "    :param input_data: Input placeholder\n",
    "    :param target_data: Target placeholder\n",
    "    :param keep_prob: Dropout keep probability placeholder\n",
    "    :param batch_size: Batch Size\n",
    "    :param source_sequence_length: Sequence Lengths of source sequences in the batch\n",
    "    :param target_sequence_length: Sequence Lengths of target sequences in the batch\n",
    "    :param source_vocab_size: Source vocabulary size\n",
    "    :param target_vocab_size: Target vocabulary size\n",
    "    :param enc_embedding_size: Decoder embedding size\n",
    "    :param dec_embedding_size: Encoder embedding size\n",
    "    :param rnn_size: RNN Size\n",
    "    :param num_layers: Number of layers\n",
    "    :param target_vocab_to_int: Dictionary to go from the target words to an id\n",
    "    :return: Tuple of (Training BasicDecoderOutput, Inference BasicDecoderOutput)\n",
    "    \"\"\"\n",
    "    # TODO: Implement Function\n",
    "    _, enc_state = encoding_layer(input_data, rnn_size, num_layers, keep_prob, source_sequence_length, source_vocab_size, enc_embedding_size)\n",
    "    \n",
    "    dec_input = process_decoder_input(target_data, target_vocab_to_int, batch_size)\n",
    "    \n",
    "    training_decoder_output, inference_decoder_output = decoding_layer(dec_input, enc_state, target_sequence_length, max_target_sentence_length, rnn_size, num_layers, target_vocab_to_int, target_vocab_size, batch_size, keep_prob, dec_embedding_size)\n",
    "    \n",
    "    return training_decoder_output, inference_decoder_output\n",
    "\n",
    "\n",
    "\"\"\"\n",
    "DON'T MODIFY ANYTHING IN THIS CELL THAT IS BELOW THIS LINE\n",
    "\"\"\"\n",
    "tests.test_seq2seq_model(seq2seq_model)"
   ]
  },
  {
   "cell_type": "markdown",
   "metadata": {},
   "source": [
    "## Neural Network Training\n",
    "### Hyperparameters\n",
    "Tune the following parameters:\n",
    "\n",
    "- Set `epochs` to the number of epochs.\n",
    "- Set `batch_size` to the batch size.\n",
    "- Set `rnn_size` to the size of the RNNs.\n",
    "- Set `num_layers` to the number of layers.\n",
    "- Set `encoding_embedding_size` to the size of the embedding for the encoder.\n",
    "- Set `decoding_embedding_size` to the size of the embedding for the decoder.\n",
    "- Set `learning_rate` to the learning rate.\n",
    "- Set `keep_probability` to the Dropout keep probability\n",
    "- Set `display_step` to state how many steps between each debug output statement"
   ]
  },
  {
   "cell_type": "code",
   "execution_count": 206,
   "metadata": {
    "collapsed": true
   },
   "outputs": [],
   "source": [
    "# Number of Epochs\n",
    "epochs = 5\n",
    "# Batch Size\n",
    "batch_size = 256\n",
    "# RNN Size\n",
    "rnn_size = 512\n",
    "# Number of Layers\n",
    "num_layers = 2\n",
    "# Embedding Size\n",
    "encoding_embedding_size = 256\n",
    "decoding_embedding_size = 256\n",
    "# Learning Rate\n",
    "learning_rate = 0.005\n",
    "# Dropout Keep Probability\n",
    "keep_probability = 0.5\n",
    "display_step = 10"
   ]
  },
  {
   "cell_type": "markdown",
   "metadata": {},
   "source": [
    "### Build the Graph\n",
    "Build the graph using the neural network you implemented."
   ]
  },
  {
   "cell_type": "code",
   "execution_count": 207,
   "metadata": {},
   "outputs": [],
   "source": [
    "\"\"\"\n",
    "DON'T MODIFY ANYTHING IN THIS CELL\n",
    "\"\"\"\n",
    "save_path = 'checkpoints/dev'\n",
    "(source_int_text, target_int_text), (source_vocab_to_int, target_vocab_to_int), _ = helper.load_preprocess()\n",
    "max_target_sentence_length = max([len(sentence) for sentence in source_int_text])\n",
    "\n",
    "train_graph = tf.Graph()\n",
    "with train_graph.as_default():\n",
    "    input_data, targets, lr, keep_prob, target_sequence_length, max_target_sequence_length, source_sequence_length = model_inputs()\n",
    "\n",
    "    #sequence_length = tf.placeholder_with_default(max_target_sentence_length, None, name='sequence_length')\n",
    "    input_shape = tf.shape(input_data)\n",
    "\n",
    "    train_logits, inference_logits = seq2seq_model(tf.reverse(input_data, [-1]),\n",
    "                                                   targets,\n",
    "                                                   keep_prob,\n",
    "                                                   batch_size,\n",
    "                                                   source_sequence_length,\n",
    "                                                   target_sequence_length,\n",
    "                                                   max_target_sequence_length,\n",
    "                                                   len(source_vocab_to_int),\n",
    "                                                   len(target_vocab_to_int),\n",
    "                                                   encoding_embedding_size,\n",
    "                                                   decoding_embedding_size,\n",
    "                                                   rnn_size,\n",
    "                                                   num_layers,\n",
    "                                                   target_vocab_to_int)\n",
    "\n",
    "\n",
    "    training_logits = tf.identity(train_logits.rnn_output, name='logits')\n",
    "    inference_logits = tf.identity(inference_logits.sample_id, name='predictions')\n",
    "\n",
    "    masks = tf.sequence_mask(target_sequence_length, max_target_sequence_length, dtype=tf.float32, name='masks')\n",
    "\n",
    "    with tf.name_scope(\"optimization\"):\n",
    "        # Loss function\n",
    "        cost = tf.contrib.seq2seq.sequence_loss(\n",
    "            training_logits,\n",
    "            targets,\n",
    "            masks)\n",
    "\n",
    "        # Optimizer\n",
    "        optimizer = tf.train.AdamOptimizer(lr)\n",
    "\n",
    "        # Gradient Clipping\n",
    "        gradients = optimizer.compute_gradients(cost)\n",
    "        capped_gradients = [(tf.clip_by_value(grad, -1., 1.), var) for grad, var in gradients if grad is not None]\n",
    "        train_op = optimizer.apply_gradients(capped_gradients)"
   ]
  },
  {
   "cell_type": "markdown",
   "metadata": {},
   "source": [
    "Batch and pad the source and target sequences"
   ]
  },
  {
   "cell_type": "code",
   "execution_count": 208,
   "metadata": {
    "collapsed": true
   },
   "outputs": [],
   "source": [
    "\"\"\"\n",
    "DON'T MODIFY ANYTHING IN THIS CELL\n",
    "\"\"\"\n",
    "def pad_sentence_batch(sentence_batch, pad_int):\n",
    "    \"\"\"Pad sentences with <PAD> so that each sentence of a batch has the same length\"\"\"\n",
    "    max_sentence = max([len(sentence) for sentence in sentence_batch])\n",
    "    return [sentence + [pad_int] * (max_sentence - len(sentence)) for sentence in sentence_batch]\n",
    "\n",
    "\n",
    "def get_batches(sources, targets, batch_size, source_pad_int, target_pad_int):\n",
    "    \"\"\"Batch targets, sources, and the lengths of their sentences together\"\"\"\n",
    "    for batch_i in range(0, len(sources)//batch_size):\n",
    "        start_i = batch_i * batch_size\n",
    "\n",
    "        # Slice the right amount for the batch\n",
    "        sources_batch = sources[start_i:start_i + batch_size]\n",
    "        targets_batch = targets[start_i:start_i + batch_size]\n",
    "\n",
    "        # Pad\n",
    "        pad_sources_batch = np.array(pad_sentence_batch(sources_batch, source_pad_int))\n",
    "        pad_targets_batch = np.array(pad_sentence_batch(targets_batch, target_pad_int))\n",
    "\n",
    "        # Need the lengths for the _lengths parameters\n",
    "        pad_targets_lengths = []\n",
    "        for target in pad_targets_batch:\n",
    "            pad_targets_lengths.append(len(target))\n",
    "\n",
    "        pad_source_lengths = []\n",
    "        for source in pad_sources_batch:\n",
    "            pad_source_lengths.append(len(source))\n",
    "\n",
    "        yield pad_sources_batch, pad_targets_batch, pad_source_lengths, pad_targets_lengths\n"
   ]
  },
  {
   "cell_type": "markdown",
   "metadata": {},
   "source": [
    "### Train\n",
    "Train the neural network on the preprocessed data. If you have a hard time getting a good loss, check the forms to see if anyone is having the same problem."
   ]
  },
  {
   "cell_type": "code",
   "execution_count": 209,
   "metadata": {
    "scrolled": true
   },
   "outputs": [
    {
     "name": "stdout",
     "output_type": "stream",
     "text": [
      "Epoch   0 Batch   10/538 - Train Accuracy: 0.2668, Validation Accuracy: 0.3516, Loss: 3.4473\n",
      "Epoch   0 Batch   20/538 - Train Accuracy: 0.3460, Validation Accuracy: 0.3842, Loss: 2.8974\n",
      "Epoch   0 Batch   30/538 - Train Accuracy: 0.3842, Validation Accuracy: 0.4391, Loss: 2.6838\n",
      "Epoch   0 Batch   40/538 - Train Accuracy: 0.4775, Validation Accuracy: 0.4792, Loss: 2.2367\n",
      "Epoch   0 Batch   50/538 - Train Accuracy: 0.4432, Validation Accuracy: 0.4822, Loss: 2.2264\n",
      "Epoch   0 Batch   60/538 - Train Accuracy: 0.4145, Validation Accuracy: 0.4771, Loss: 2.1596\n",
      "Epoch   0 Batch   70/538 - Train Accuracy: 0.4684, Validation Accuracy: 0.5005, Loss: 2.0026\n",
      "Epoch   0 Batch   80/538 - Train Accuracy: 0.4605, Validation Accuracy: 0.5199, Loss: 2.0416\n",
      "Epoch   0 Batch   90/538 - Train Accuracy: 0.4784, Validation Accuracy: 0.5082, Loss: 1.8761\n",
      "Epoch   0 Batch  100/538 - Train Accuracy: 0.4951, Validation Accuracy: 0.5334, Loss: 1.7419\n",
      "Epoch   0 Batch  110/538 - Train Accuracy: 0.4465, Validation Accuracy: 0.5055, Loss: 1.7286\n",
      "Epoch   0 Batch  120/538 - Train Accuracy: 0.4570, Validation Accuracy: 0.5105, Loss: 1.5093\n",
      "Epoch   0 Batch  130/538 - Train Accuracy: 0.4807, Validation Accuracy: 0.5123, Loss: 1.2949\n",
      "Epoch   0 Batch  140/538 - Train Accuracy: 0.4656, Validation Accuracy: 0.5208, Loss: 1.2670\n",
      "Epoch   0 Batch  150/538 - Train Accuracy: 0.5223, Validation Accuracy: 0.5471, Loss: 1.1020\n",
      "Epoch   0 Batch  160/538 - Train Accuracy: 0.5087, Validation Accuracy: 0.5288, Loss: 0.9720\n",
      "Epoch   0 Batch  170/538 - Train Accuracy: 0.5456, Validation Accuracy: 0.5602, Loss: 0.9427\n",
      "Epoch   0 Batch  180/538 - Train Accuracy: 0.5781, Validation Accuracy: 0.5701, Loss: 0.8840\n",
      "Epoch   0 Batch  190/538 - Train Accuracy: 0.5419, Validation Accuracy: 0.5547, Loss: 0.8688\n",
      "Epoch   0 Batch  200/538 - Train Accuracy: 0.5465, Validation Accuracy: 0.5721, Loss: 0.8046\n",
      "Epoch   0 Batch  210/538 - Train Accuracy: 0.5658, Validation Accuracy: 0.5904, Loss: 0.7626\n",
      "Epoch   0 Batch  220/538 - Train Accuracy: 0.5472, Validation Accuracy: 0.5945, Loss: 0.7379\n",
      "Epoch   0 Batch  230/538 - Train Accuracy: 0.5461, Validation Accuracy: 0.5966, Loss: 0.7394\n",
      "Epoch   0 Batch  240/538 - Train Accuracy: 0.5607, Validation Accuracy: 0.5969, Loss: 0.7354\n",
      "Epoch   0 Batch  250/538 - Train Accuracy: 0.5701, Validation Accuracy: 0.5911, Loss: 0.7006\n",
      "Epoch   0 Batch  260/538 - Train Accuracy: 0.5737, Validation Accuracy: 0.5929, Loss: 0.6851\n",
      "Epoch   0 Batch  270/538 - Train Accuracy: 0.5711, Validation Accuracy: 0.5941, Loss: 0.6847\n",
      "Epoch   0 Batch  280/538 - Train Accuracy: 0.6231, Validation Accuracy: 0.6058, Loss: 0.6438\n",
      "Epoch   0 Batch  290/538 - Train Accuracy: 0.5666, Validation Accuracy: 0.6117, Loss: 0.6488\n",
      "Epoch   0 Batch  300/538 - Train Accuracy: 0.6092, Validation Accuracy: 0.6090, Loss: 0.6362\n",
      "Epoch   0 Batch  310/538 - Train Accuracy: 0.5906, Validation Accuracy: 0.5978, Loss: 0.6385\n",
      "Epoch   0 Batch  320/538 - Train Accuracy: 0.5911, Validation Accuracy: 0.5993, Loss: 0.6245\n",
      "Epoch   0 Batch  330/538 - Train Accuracy: 0.5984, Validation Accuracy: 0.6071, Loss: 0.5962\n",
      "Epoch   0 Batch  340/538 - Train Accuracy: 0.5730, Validation Accuracy: 0.5984, Loss: 0.6441\n",
      "Epoch   0 Batch  350/538 - Train Accuracy: 0.5932, Validation Accuracy: 0.6126, Loss: 0.6211\n",
      "Epoch   0 Batch  360/538 - Train Accuracy: 0.5900, Validation Accuracy: 0.5900, Loss: 0.6149\n",
      "Epoch   0 Batch  370/538 - Train Accuracy: 0.5961, Validation Accuracy: 0.6238, Loss: 0.6248\n",
      "Epoch   0 Batch  380/538 - Train Accuracy: 0.5916, Validation Accuracy: 0.6202, Loss: 0.6001\n",
      "Epoch   0 Batch  390/538 - Train Accuracy: 0.6209, Validation Accuracy: 0.6129, Loss: 0.5795\n",
      "Epoch   0 Batch  400/538 - Train Accuracy: 0.6103, Validation Accuracy: 0.6349, Loss: 0.5701\n",
      "Epoch   0 Batch  410/538 - Train Accuracy: 0.6018, Validation Accuracy: 0.6104, Loss: 0.5774\n",
      "Epoch   0 Batch  420/538 - Train Accuracy: 0.6209, Validation Accuracy: 0.6229, Loss: 0.5670\n",
      "Epoch   0 Batch  430/538 - Train Accuracy: 0.6373, Validation Accuracy: 0.6380, Loss: 0.5413\n",
      "Epoch   0 Batch  440/538 - Train Accuracy: 0.6232, Validation Accuracy: 0.6291, Loss: 0.5596\n",
      "Epoch   0 Batch  450/538 - Train Accuracy: 0.6546, Validation Accuracy: 0.6307, Loss: 0.5289\n",
      "Epoch   0 Batch  460/538 - Train Accuracy: 0.6209, Validation Accuracy: 0.6465, Loss: 0.5037\n",
      "Epoch   0 Batch  470/538 - Train Accuracy: 0.6568, Validation Accuracy: 0.6422, Loss: 0.4919\n",
      "Epoch   0 Batch  480/538 - Train Accuracy: 0.6423, Validation Accuracy: 0.6465, Loss: 0.4939\n",
      "Epoch   0 Batch  490/538 - Train Accuracy: 0.6269, Validation Accuracy: 0.6461, Loss: 0.4852\n",
      "Epoch   0 Batch  500/538 - Train Accuracy: 0.6681, Validation Accuracy: 0.6614, Loss: 0.4376\n",
      "Epoch   0 Batch  510/538 - Train Accuracy: 0.6624, Validation Accuracy: 0.6630, Loss: 0.4586\n",
      "Epoch   0 Batch  520/538 - Train Accuracy: 0.6477, Validation Accuracy: 0.6729, Loss: 0.4682\n",
      "Epoch   0 Batch  530/538 - Train Accuracy: 0.6408, Validation Accuracy: 0.6589, Loss: 0.4614\n",
      "Epoch   1 Batch   10/538 - Train Accuracy: 0.6092, Validation Accuracy: 0.6742, Loss: 0.4561\n",
      "Epoch   1 Batch   20/538 - Train Accuracy: 0.6471, Validation Accuracy: 0.6751, Loss: 0.4370\n",
      "Epoch   1 Batch   30/538 - Train Accuracy: 0.6480, Validation Accuracy: 0.6756, Loss: 0.4441\n",
      "Epoch   1 Batch   40/538 - Train Accuracy: 0.7237, Validation Accuracy: 0.6737, Loss: 0.3700\n",
      "Epoch   1 Batch   50/538 - Train Accuracy: 0.6764, Validation Accuracy: 0.6955, Loss: 0.4121\n",
      "Epoch   1 Batch   60/538 - Train Accuracy: 0.6809, Validation Accuracy: 0.6804, Loss: 0.4019\n",
      "Epoch   1 Batch   70/538 - Train Accuracy: 0.6974, Validation Accuracy: 0.6838, Loss: 0.3815\n",
      "Epoch   1 Batch   80/538 - Train Accuracy: 0.6943, Validation Accuracy: 0.7104, Loss: 0.3979\n",
      "Epoch   1 Batch   90/538 - Train Accuracy: 0.7029, Validation Accuracy: 0.7088, Loss: 0.3672\n",
      "Epoch   1 Batch  100/538 - Train Accuracy: 0.7014, Validation Accuracy: 0.7033, Loss: 0.3540\n",
      "Epoch   1 Batch  110/538 - Train Accuracy: 0.7066, Validation Accuracy: 0.7241, Loss: 0.3449\n",
      "Epoch   1 Batch  120/538 - Train Accuracy: 0.7084, Validation Accuracy: 0.7076, Loss: 0.3257\n",
      "Epoch   1 Batch  130/538 - Train Accuracy: 0.7001, Validation Accuracy: 0.6985, Loss: 0.3217\n",
      "Epoch   1 Batch  140/538 - Train Accuracy: 0.6865, Validation Accuracy: 0.7092, Loss: 0.3370\n",
      "Epoch   1 Batch  150/538 - Train Accuracy: 0.7248, Validation Accuracy: 0.7237, Loss: 0.3082\n",
      "Epoch   1 Batch  160/538 - Train Accuracy: 0.6949, Validation Accuracy: 0.7198, Loss: 0.2929\n",
      "Epoch   1 Batch  170/538 - Train Accuracy: 0.7401, Validation Accuracy: 0.7235, Loss: 0.3012\n",
      "Epoch   1 Batch  180/538 - Train Accuracy: 0.7613, Validation Accuracy: 0.7054, Loss: 0.2769\n",
      "Epoch   1 Batch  190/538 - Train Accuracy: 0.7167, Validation Accuracy: 0.7070, Loss: 0.2872\n",
      "Epoch   1 Batch  200/538 - Train Accuracy: 0.7605, Validation Accuracy: 0.7399, Loss: 0.2565\n",
      "Epoch   1 Batch  210/538 - Train Accuracy: 0.7757, Validation Accuracy: 0.7429, Loss: 0.2442\n",
      "Epoch   1 Batch  220/538 - Train Accuracy: 0.7286, Validation Accuracy: 0.7136, Loss: 0.2365\n",
      "Epoch   1 Batch  230/538 - Train Accuracy: 0.7803, Validation Accuracy: 0.7459, Loss: 0.2420\n",
      "Epoch   1 Batch  240/538 - Train Accuracy: 0.7744, Validation Accuracy: 0.7660, Loss: 0.2246\n",
      "Epoch   1 Batch  250/538 - Train Accuracy: 0.7732, Validation Accuracy: 0.7562, Loss: 0.2227\n",
      "Epoch   1 Batch  260/538 - Train Accuracy: 0.7840, Validation Accuracy: 0.7844, Loss: 0.2083\n",
      "Epoch   1 Batch  270/538 - Train Accuracy: 0.7736, Validation Accuracy: 0.7608, Loss: 0.2014\n",
      "Epoch   1 Batch  280/538 - Train Accuracy: 0.8170, Validation Accuracy: 0.7901, Loss: 0.1785\n",
      "Epoch   1 Batch  290/538 - Train Accuracy: 0.7955, Validation Accuracy: 0.8018, Loss: 0.1741\n",
      "Epoch   1 Batch  300/538 - Train Accuracy: 0.7991, Validation Accuracy: 0.7878, Loss: 0.1704\n",
      "Epoch   1 Batch  310/538 - Train Accuracy: 0.8465, Validation Accuracy: 0.7992, Loss: 0.1649\n",
      "Epoch   1 Batch  320/538 - Train Accuracy: 0.7963, Validation Accuracy: 0.8010, Loss: 0.1461\n",
      "Epoch   1 Batch  330/538 - Train Accuracy: 0.8276, Validation Accuracy: 0.8152, Loss: 0.1449\n",
      "Epoch   1 Batch  340/538 - Train Accuracy: 0.8293, Validation Accuracy: 0.8178, Loss: 0.1357\n",
      "Epoch   1 Batch  350/538 - Train Accuracy: 0.8527, Validation Accuracy: 0.8457, Loss: 0.1415\n",
      "Epoch   1 Batch  360/538 - Train Accuracy: 0.8398, Validation Accuracy: 0.8583, Loss: 0.1287\n"
     ]
    },
    {
     "name": "stdout",
     "output_type": "stream",
     "text": [
      "Epoch   1 Batch  370/538 - Train Accuracy: 0.8494, Validation Accuracy: 0.8535, Loss: 0.1230\n",
      "Epoch   1 Batch  380/538 - Train Accuracy: 0.8797, Validation Accuracy: 0.8517, Loss: 0.1100\n",
      "Epoch   1 Batch  390/538 - Train Accuracy: 0.8904, Validation Accuracy: 0.8711, Loss: 0.0969\n",
      "Epoch   1 Batch  400/538 - Train Accuracy: 0.8891, Validation Accuracy: 0.8629, Loss: 0.1055\n",
      "Epoch   1 Batch  410/538 - Train Accuracy: 0.8994, Validation Accuracy: 0.8816, Loss: 0.1063\n",
      "Epoch   1 Batch  420/538 - Train Accuracy: 0.8803, Validation Accuracy: 0.8972, Loss: 0.0906\n",
      "Epoch   1 Batch  430/538 - Train Accuracy: 0.8814, Validation Accuracy: 0.8881, Loss: 0.0862\n",
      "Epoch   1 Batch  440/538 - Train Accuracy: 0.8848, Validation Accuracy: 0.8878, Loss: 0.1004\n",
      "Epoch   1 Batch  450/538 - Train Accuracy: 0.8826, Validation Accuracy: 0.8926, Loss: 0.0957\n",
      "Epoch   1 Batch  460/538 - Train Accuracy: 0.8681, Validation Accuracy: 0.8991, Loss: 0.0935\n",
      "Epoch   1 Batch  470/538 - Train Accuracy: 0.8966, Validation Accuracy: 0.8711, Loss: 0.0845\n",
      "Epoch   1 Batch  480/538 - Train Accuracy: 0.9237, Validation Accuracy: 0.9055, Loss: 0.0677\n",
      "Epoch   1 Batch  490/538 - Train Accuracy: 0.9167, Validation Accuracy: 0.8935, Loss: 0.0683\n",
      "Epoch   1 Batch  500/538 - Train Accuracy: 0.9222, Validation Accuracy: 0.8963, Loss: 0.0621\n",
      "Epoch   1 Batch  510/538 - Train Accuracy: 0.9235, Validation Accuracy: 0.9228, Loss: 0.0685\n",
      "Epoch   1 Batch  520/538 - Train Accuracy: 0.9135, Validation Accuracy: 0.8913, Loss: 0.0672\n",
      "Epoch   1 Batch  530/538 - Train Accuracy: 0.8846, Validation Accuracy: 0.9292, Loss: 0.0823\n",
      "Epoch   2 Batch   10/538 - Train Accuracy: 0.9162, Validation Accuracy: 0.9173, Loss: 0.0651\n",
      "Epoch   2 Batch   20/538 - Train Accuracy: 0.9299, Validation Accuracy: 0.9281, Loss: 0.0661\n",
      "Epoch   2 Batch   30/538 - Train Accuracy: 0.9180, Validation Accuracy: 0.9185, Loss: 0.0705\n",
      "Epoch   2 Batch   40/538 - Train Accuracy: 0.9418, Validation Accuracy: 0.9325, Loss: 0.0467\n",
      "Epoch   2 Batch   50/538 - Train Accuracy: 0.9406, Validation Accuracy: 0.9162, Loss: 0.0594\n",
      "Epoch   2 Batch   60/538 - Train Accuracy: 0.9346, Validation Accuracy: 0.9251, Loss: 0.0600\n",
      "Epoch   2 Batch   70/538 - Train Accuracy: 0.9234, Validation Accuracy: 0.9267, Loss: 0.0553\n",
      "Epoch   2 Batch   80/538 - Train Accuracy: 0.9402, Validation Accuracy: 0.9315, Loss: 0.0570\n",
      "Epoch   2 Batch   90/538 - Train Accuracy: 0.9241, Validation Accuracy: 0.9421, Loss: 0.0624\n",
      "Epoch   2 Batch  100/538 - Train Accuracy: 0.9369, Validation Accuracy: 0.9270, Loss: 0.0481\n",
      "Epoch   2 Batch  110/538 - Train Accuracy: 0.9385, Validation Accuracy: 0.9364, Loss: 0.0545\n",
      "Epoch   2 Batch  120/538 - Train Accuracy: 0.9484, Validation Accuracy: 0.9284, Loss: 0.0431\n",
      "Epoch   2 Batch  130/538 - Train Accuracy: 0.9308, Validation Accuracy: 0.9419, Loss: 0.0538\n",
      "Epoch   2 Batch  140/538 - Train Accuracy: 0.9160, Validation Accuracy: 0.9281, Loss: 0.0680\n",
      "Epoch   2 Batch  150/538 - Train Accuracy: 0.9445, Validation Accuracy: 0.9363, Loss: 0.0464\n",
      "Epoch   2 Batch  160/538 - Train Accuracy: 0.9237, Validation Accuracy: 0.9212, Loss: 0.0469\n",
      "Epoch   2 Batch  170/538 - Train Accuracy: 0.9330, Validation Accuracy: 0.9339, Loss: 0.0512\n",
      "Epoch   2 Batch  180/538 - Train Accuracy: 0.9269, Validation Accuracy: 0.9396, Loss: 0.0519\n",
      "Epoch   2 Batch  190/538 - Train Accuracy: 0.9215, Validation Accuracy: 0.9363, Loss: 0.0706\n",
      "Epoch   2 Batch  200/538 - Train Accuracy: 0.9430, Validation Accuracy: 0.9355, Loss: 0.0441\n",
      "Epoch   2 Batch  210/538 - Train Accuracy: 0.9362, Validation Accuracy: 0.9324, Loss: 0.0492\n",
      "Epoch   2 Batch  220/538 - Train Accuracy: 0.9286, Validation Accuracy: 0.9276, Loss: 0.0492\n",
      "Epoch   2 Batch  230/538 - Train Accuracy: 0.9289, Validation Accuracy: 0.9512, Loss: 0.0482\n",
      "Epoch   2 Batch  240/538 - Train Accuracy: 0.9359, Validation Accuracy: 0.9341, Loss: 0.0487\n",
      "Epoch   2 Batch  250/538 - Train Accuracy: 0.9393, Validation Accuracy: 0.9292, Loss: 0.0473\n",
      "Epoch   2 Batch  260/538 - Train Accuracy: 0.9176, Validation Accuracy: 0.9341, Loss: 0.0527\n",
      "Epoch   2 Batch  270/538 - Train Accuracy: 0.9473, Validation Accuracy: 0.9434, Loss: 0.0438\n",
      "Epoch   2 Batch  280/538 - Train Accuracy: 0.9507, Validation Accuracy: 0.9396, Loss: 0.0359\n",
      "Epoch   2 Batch  290/538 - Train Accuracy: 0.9490, Validation Accuracy: 0.9348, Loss: 0.0394\n",
      "Epoch   2 Batch  300/538 - Train Accuracy: 0.9299, Validation Accuracy: 0.9499, Loss: 0.0417\n",
      "Epoch   2 Batch  310/538 - Train Accuracy: 0.9502, Validation Accuracy: 0.9522, Loss: 0.0492\n",
      "Epoch   2 Batch  320/538 - Train Accuracy: 0.9381, Validation Accuracy: 0.9467, Loss: 0.0399\n",
      "Epoch   2 Batch  330/538 - Train Accuracy: 0.9641, Validation Accuracy: 0.9430, Loss: 0.0392\n",
      "Epoch   2 Batch  340/538 - Train Accuracy: 0.9426, Validation Accuracy: 0.9446, Loss: 0.0381\n",
      "Epoch   2 Batch  350/538 - Train Accuracy: 0.9559, Validation Accuracy: 0.9510, Loss: 0.0465\n",
      "Epoch   2 Batch  360/538 - Train Accuracy: 0.9430, Validation Accuracy: 0.9531, Loss: 0.0399\n",
      "Epoch   2 Batch  370/538 - Train Accuracy: 0.9516, Validation Accuracy: 0.9457, Loss: 0.0409\n",
      "Epoch   2 Batch  380/538 - Train Accuracy: 0.9479, Validation Accuracy: 0.9416, Loss: 0.0368\n",
      "Epoch   2 Batch  390/538 - Train Accuracy: 0.9410, Validation Accuracy: 0.9446, Loss: 0.0353\n",
      "Epoch   2 Batch  400/538 - Train Accuracy: 0.9542, Validation Accuracy: 0.9547, Loss: 0.0435\n",
      "Epoch   2 Batch  410/538 - Train Accuracy: 0.9437, Validation Accuracy: 0.9466, Loss: 0.0459\n",
      "Epoch   2 Batch  420/538 - Train Accuracy: 0.9477, Validation Accuracy: 0.9462, Loss: 0.0359\n",
      "Epoch   2 Batch  430/538 - Train Accuracy: 0.9256, Validation Accuracy: 0.9647, Loss: 0.0381\n",
      "Epoch   2 Batch  440/538 - Train Accuracy: 0.9465, Validation Accuracy: 0.9609, Loss: 0.0400\n",
      "Epoch   2 Batch  450/538 - Train Accuracy: 0.9245, Validation Accuracy: 0.9565, Loss: 0.0495\n",
      "Epoch   2 Batch  460/538 - Train Accuracy: 0.9262, Validation Accuracy: 0.9656, Loss: 0.0430\n",
      "Epoch   2 Batch  470/538 - Train Accuracy: 0.9503, Validation Accuracy: 0.9521, Loss: 0.0364\n",
      "Epoch   2 Batch  480/538 - Train Accuracy: 0.9626, Validation Accuracy: 0.9476, Loss: 0.0332\n",
      "Epoch   2 Batch  490/538 - Train Accuracy: 0.9563, Validation Accuracy: 0.9522, Loss: 0.0328\n",
      "Epoch   2 Batch  500/538 - Train Accuracy: 0.9600, Validation Accuracy: 0.9517, Loss: 0.0294\n",
      "Epoch   2 Batch  510/538 - Train Accuracy: 0.9628, Validation Accuracy: 0.9494, Loss: 0.0368\n",
      "Epoch   2 Batch  520/538 - Train Accuracy: 0.9469, Validation Accuracy: 0.9563, Loss: 0.0319\n",
      "Epoch   2 Batch  530/538 - Train Accuracy: 0.9441, Validation Accuracy: 0.9600, Loss: 0.0411\n",
      "Epoch   3 Batch   10/538 - Train Accuracy: 0.9457, Validation Accuracy: 0.9480, Loss: 0.0337\n",
      "Epoch   3 Batch   20/538 - Train Accuracy: 0.9529, Validation Accuracy: 0.9622, Loss: 0.0362\n",
      "Epoch   3 Batch   30/538 - Train Accuracy: 0.9559, Validation Accuracy: 0.9480, Loss: 0.0380\n",
      "Epoch   3 Batch   40/538 - Train Accuracy: 0.9682, Validation Accuracy: 0.9586, Loss: 0.0268\n",
      "Epoch   3 Batch   50/538 - Train Accuracy: 0.9627, Validation Accuracy: 0.9489, Loss: 0.0364\n",
      "Epoch   3 Batch   60/538 - Train Accuracy: 0.9379, Validation Accuracy: 0.9590, Loss: 0.0354\n",
      "Epoch   3 Batch   70/538 - Train Accuracy: 0.9602, Validation Accuracy: 0.9679, Loss: 0.0272\n",
      "Epoch   3 Batch   80/538 - Train Accuracy: 0.9631, Validation Accuracy: 0.9654, Loss: 0.0284\n",
      "Epoch   3 Batch   90/538 - Train Accuracy: 0.9598, Validation Accuracy: 0.9659, Loss: 0.0358\n",
      "Epoch   3 Batch  100/538 - Train Accuracy: 0.9719, Validation Accuracy: 0.9703, Loss: 0.0293\n",
      "Epoch   3 Batch  110/538 - Train Accuracy: 0.9561, Validation Accuracy: 0.9585, Loss: 0.0331\n",
      "Epoch   3 Batch  120/538 - Train Accuracy: 0.9629, Validation Accuracy: 0.9698, Loss: 0.0269\n",
      "Epoch   3 Batch  130/538 - Train Accuracy: 0.9555, Validation Accuracy: 0.9625, Loss: 0.0329\n",
      "Epoch   3 Batch  140/538 - Train Accuracy: 0.9316, Validation Accuracy: 0.9661, Loss: 0.0443\n",
      "Epoch   3 Batch  150/538 - Train Accuracy: 0.9750, Validation Accuracy: 0.9556, Loss: 0.0264\n",
      "Epoch   3 Batch  160/538 - Train Accuracy: 0.9468, Validation Accuracy: 0.9451, Loss: 0.0256\n",
      "Epoch   3 Batch  170/538 - Train Accuracy: 0.9448, Validation Accuracy: 0.9553, Loss: 0.0331\n",
      "Epoch   3 Batch  180/538 - Train Accuracy: 0.9516, Validation Accuracy: 0.9597, Loss: 0.0347\n",
      "Epoch   3 Batch  190/538 - Train Accuracy: 0.9541, Validation Accuracy: 0.9528, Loss: 0.0431\n"
     ]
    },
    {
     "name": "stdout",
     "output_type": "stream",
     "text": [
      "Epoch   3 Batch  200/538 - Train Accuracy: 0.9625, Validation Accuracy: 0.9540, Loss: 0.0267\n",
      "Epoch   3 Batch  210/538 - Train Accuracy: 0.9634, Validation Accuracy: 0.9542, Loss: 0.0344\n",
      "Epoch   3 Batch  220/538 - Train Accuracy: 0.9397, Validation Accuracy: 0.9547, Loss: 0.0361\n",
      "Epoch   3 Batch  230/538 - Train Accuracy: 0.9566, Validation Accuracy: 0.9576, Loss: 0.0307\n",
      "Epoch   3 Batch  240/538 - Train Accuracy: 0.9510, Validation Accuracy: 0.9556, Loss: 0.0328\n",
      "Epoch   3 Batch  250/538 - Train Accuracy: 0.9510, Validation Accuracy: 0.9629, Loss: 0.0323\n",
      "Epoch   3 Batch  260/538 - Train Accuracy: 0.9422, Validation Accuracy: 0.9565, Loss: 0.0312\n",
      "Epoch   3 Batch  270/538 - Train Accuracy: 0.9646, Validation Accuracy: 0.9652, Loss: 0.0249\n",
      "Epoch   3 Batch  280/538 - Train Accuracy: 0.9674, Validation Accuracy: 0.9592, Loss: 0.0266\n",
      "Epoch   3 Batch  290/538 - Train Accuracy: 0.9750, Validation Accuracy: 0.9695, Loss: 0.0256\n",
      "Epoch   3 Batch  300/538 - Train Accuracy: 0.9565, Validation Accuracy: 0.9657, Loss: 0.0322\n",
      "Epoch   3 Batch  310/538 - Train Accuracy: 0.9598, Validation Accuracy: 0.9691, Loss: 0.0326\n",
      "Epoch   3 Batch  320/538 - Train Accuracy: 0.9632, Validation Accuracy: 0.9592, Loss: 0.0290\n",
      "Epoch   3 Batch  330/538 - Train Accuracy: 0.9645, Validation Accuracy: 0.9615, Loss: 0.0265\n",
      "Epoch   3 Batch  340/538 - Train Accuracy: 0.9650, Validation Accuracy: 0.9672, Loss: 0.0269\n",
      "Epoch   3 Batch  350/538 - Train Accuracy: 0.9715, Validation Accuracy: 0.9581, Loss: 0.0323\n",
      "Epoch   3 Batch  360/538 - Train Accuracy: 0.9594, Validation Accuracy: 0.9728, Loss: 0.0249\n",
      "Epoch   3 Batch  370/538 - Train Accuracy: 0.9746, Validation Accuracy: 0.9540, Loss: 0.0269\n",
      "Epoch   3 Batch  380/538 - Train Accuracy: 0.9738, Validation Accuracy: 0.9643, Loss: 0.0260\n",
      "Epoch   3 Batch  390/538 - Train Accuracy: 0.9554, Validation Accuracy: 0.9588, Loss: 0.0231\n",
      "Epoch   3 Batch  400/538 - Train Accuracy: 0.9628, Validation Accuracy: 0.9490, Loss: 0.0336\n",
      "Epoch   3 Batch  410/538 - Train Accuracy: 0.9725, Validation Accuracy: 0.9620, Loss: 0.0288\n",
      "Epoch   3 Batch  420/538 - Train Accuracy: 0.9553, Validation Accuracy: 0.9632, Loss: 0.0302\n",
      "Epoch   3 Batch  430/538 - Train Accuracy: 0.9479, Validation Accuracy: 0.9680, Loss: 0.0274\n",
      "Epoch   3 Batch  440/538 - Train Accuracy: 0.9625, Validation Accuracy: 0.9590, Loss: 0.0307\n",
      "Epoch   3 Batch  450/538 - Train Accuracy: 0.9449, Validation Accuracy: 0.9657, Loss: 0.0390\n",
      "Epoch   3 Batch  460/538 - Train Accuracy: 0.9535, Validation Accuracy: 0.9672, Loss: 0.0264\n",
      "Epoch   3 Batch  470/538 - Train Accuracy: 0.9767, Validation Accuracy: 0.9688, Loss: 0.0245\n",
      "Epoch   3 Batch  480/538 - Train Accuracy: 0.9727, Validation Accuracy: 0.9586, Loss: 0.0254\n",
      "Epoch   3 Batch  490/538 - Train Accuracy: 0.9663, Validation Accuracy: 0.9609, Loss: 0.0215\n",
      "Epoch   3 Batch  500/538 - Train Accuracy: 0.9759, Validation Accuracy: 0.9638, Loss: 0.0215\n",
      "Epoch   3 Batch  510/538 - Train Accuracy: 0.9710, Validation Accuracy: 0.9663, Loss: 0.0245\n",
      "Epoch   3 Batch  520/538 - Train Accuracy: 0.9627, Validation Accuracy: 0.9593, Loss: 0.0264\n",
      "Epoch   3 Batch  530/538 - Train Accuracy: 0.9621, Validation Accuracy: 0.9693, Loss: 0.0308\n",
      "Epoch   4 Batch   10/538 - Train Accuracy: 0.9625, Validation Accuracy: 0.9647, Loss: 0.0288\n",
      "Epoch   4 Batch   20/538 - Train Accuracy: 0.9598, Validation Accuracy: 0.9695, Loss: 0.0258\n",
      "Epoch   4 Batch   30/538 - Train Accuracy: 0.9668, Validation Accuracy: 0.9661, Loss: 0.0283\n",
      "Epoch   4 Batch   40/538 - Train Accuracy: 0.9684, Validation Accuracy: 0.9682, Loss: 0.0196\n",
      "Epoch   4 Batch   50/538 - Train Accuracy: 0.9631, Validation Accuracy: 0.9659, Loss: 0.0258\n",
      "Epoch   4 Batch   60/538 - Train Accuracy: 0.9691, Validation Accuracy: 0.9755, Loss: 0.0248\n",
      "Epoch   4 Batch   70/538 - Train Accuracy: 0.9691, Validation Accuracy: 0.9528, Loss: 0.0185\n",
      "Epoch   4 Batch   80/538 - Train Accuracy: 0.9713, Validation Accuracy: 0.9553, Loss: 0.0240\n",
      "Epoch   4 Batch   90/538 - Train Accuracy: 0.9583, Validation Accuracy: 0.9716, Loss: 0.0304\n",
      "Epoch   4 Batch  100/538 - Train Accuracy: 0.9818, Validation Accuracy: 0.9703, Loss: 0.0192\n",
      "Epoch   4 Batch  110/538 - Train Accuracy: 0.9699, Validation Accuracy: 0.9808, Loss: 0.0238\n",
      "Epoch   4 Batch  120/538 - Train Accuracy: 0.9662, Validation Accuracy: 0.9723, Loss: 0.0186\n",
      "Epoch   4 Batch  130/538 - Train Accuracy: 0.9708, Validation Accuracy: 0.9636, Loss: 0.0248\n",
      "Epoch   4 Batch  140/538 - Train Accuracy: 0.9449, Validation Accuracy: 0.9652, Loss: 0.0341\n",
      "Epoch   4 Batch  150/538 - Train Accuracy: 0.9779, Validation Accuracy: 0.9753, Loss: 0.0198\n",
      "Epoch   4 Batch  160/538 - Train Accuracy: 0.9650, Validation Accuracy: 0.9588, Loss: 0.0217\n",
      "Epoch   4 Batch  170/538 - Train Accuracy: 0.9581, Validation Accuracy: 0.9609, Loss: 0.0278\n",
      "Epoch   4 Batch  180/538 - Train Accuracy: 0.9485, Validation Accuracy: 0.9615, Loss: 0.0322\n",
      "Epoch   4 Batch  190/538 - Train Accuracy: 0.9552, Validation Accuracy: 0.9577, Loss: 0.0375\n",
      "Epoch   4 Batch  200/538 - Train Accuracy: 0.9721, Validation Accuracy: 0.9585, Loss: 0.0190\n",
      "Epoch   4 Batch  210/538 - Train Accuracy: 0.9648, Validation Accuracy: 0.9680, Loss: 0.0255\n",
      "Epoch   4 Batch  220/538 - Train Accuracy: 0.9621, Validation Accuracy: 0.9577, Loss: 0.0271\n",
      "Epoch   4 Batch  230/538 - Train Accuracy: 0.9623, Validation Accuracy: 0.9750, Loss: 0.0249\n",
      "Epoch   4 Batch  240/538 - Train Accuracy: 0.9512, Validation Accuracy: 0.9604, Loss: 0.0264\n",
      "Epoch   4 Batch  250/538 - Train Accuracy: 0.9848, Validation Accuracy: 0.9565, Loss: 0.0220\n",
      "Epoch   4 Batch  260/538 - Train Accuracy: 0.9619, Validation Accuracy: 0.9613, Loss: 0.0219\n",
      "Epoch   4 Batch  270/538 - Train Accuracy: 0.9812, Validation Accuracy: 0.9560, Loss: 0.0173\n",
      "Epoch   4 Batch  280/538 - Train Accuracy: 0.9808, Validation Accuracy: 0.9661, Loss: 0.0159\n",
      "Epoch   4 Batch  290/538 - Train Accuracy: 0.9830, Validation Accuracy: 0.9746, Loss: 0.0173\n",
      "Epoch   4 Batch  300/538 - Train Accuracy: 0.9635, Validation Accuracy: 0.9741, Loss: 0.0273\n",
      "Epoch   4 Batch  310/538 - Train Accuracy: 0.9559, Validation Accuracy: 0.9682, Loss: 0.0286\n",
      "Epoch   4 Batch  320/538 - Train Accuracy: 0.9721, Validation Accuracy: 0.9670, Loss: 0.0207\n",
      "Epoch   4 Batch  330/538 - Train Accuracy: 0.9734, Validation Accuracy: 0.9638, Loss: 0.0193\n",
      "Epoch   4 Batch  340/538 - Train Accuracy: 0.9732, Validation Accuracy: 0.9743, Loss: 0.0189\n",
      "Epoch   4 Batch  350/538 - Train Accuracy: 0.9788, Validation Accuracy: 0.9764, Loss: 0.0238\n",
      "Epoch   4 Batch  360/538 - Train Accuracy: 0.9678, Validation Accuracy: 0.9648, Loss: 0.0196\n",
      "Epoch   4 Batch  370/538 - Train Accuracy: 0.9678, Validation Accuracy: 0.9702, Loss: 0.0228\n",
      "Epoch   4 Batch  380/538 - Train Accuracy: 0.9764, Validation Accuracy: 0.9611, Loss: 0.0191\n",
      "Epoch   4 Batch  390/538 - Train Accuracy: 0.9708, Validation Accuracy: 0.9629, Loss: 0.0182\n",
      "Epoch   4 Batch  400/538 - Train Accuracy: 0.9715, Validation Accuracy: 0.9759, Loss: 0.0213\n",
      "Epoch   4 Batch  410/538 - Train Accuracy: 0.9818, Validation Accuracy: 0.9703, Loss: 0.0233\n",
      "Epoch   4 Batch  420/538 - Train Accuracy: 0.9764, Validation Accuracy: 0.9780, Loss: 0.0215\n",
      "Epoch   4 Batch  430/538 - Train Accuracy: 0.9662, Validation Accuracy: 0.9691, Loss: 0.0219\n",
      "Epoch   4 Batch  440/538 - Train Accuracy: 0.9695, Validation Accuracy: 0.9624, Loss: 0.0239\n",
      "Epoch   4 Batch  450/538 - Train Accuracy: 0.9576, Validation Accuracy: 0.9691, Loss: 0.0305\n",
      "Epoch   4 Batch  460/538 - Train Accuracy: 0.9656, Validation Accuracy: 0.9686, Loss: 0.0230\n",
      "Epoch   4 Batch  470/538 - Train Accuracy: 0.9706, Validation Accuracy: 0.9750, Loss: 0.0217\n",
      "Epoch   4 Batch  480/538 - Train Accuracy: 0.9769, Validation Accuracy: 0.9714, Loss: 0.0197\n",
      "Epoch   4 Batch  490/538 - Train Accuracy: 0.9650, Validation Accuracy: 0.9732, Loss: 0.0192\n",
      "Epoch   4 Batch  500/538 - Train Accuracy: 0.9842, Validation Accuracy: 0.9707, Loss: 0.0146\n",
      "Epoch   4 Batch  510/538 - Train Accuracy: 0.9812, Validation Accuracy: 0.9675, Loss: 0.0202\n",
      "Epoch   4 Batch  520/538 - Train Accuracy: 0.9600, Validation Accuracy: 0.9673, Loss: 0.0226\n",
      "Epoch   4 Batch  530/538 - Train Accuracy: 0.9734, Validation Accuracy: 0.9693, Loss: 0.0239\n",
      "Model Trained and Saved\n"
     ]
    }
   ],
   "source": [
    "\"\"\"\n",
    "DON'T MODIFY ANYTHING IN THIS CELL\n",
    "\"\"\"\n",
    "def get_accuracy(target, logits):\n",
    "    \"\"\"\n",
    "    Calculate accuracy\n",
    "    \"\"\"\n",
    "    max_seq = max(target.shape[1], logits.shape[1])\n",
    "    if max_seq - target.shape[1]:\n",
    "        target = np.pad(\n",
    "            target,\n",
    "            [(0,0),(0,max_seq - target.shape[1])],\n",
    "            'constant')\n",
    "    if max_seq - logits.shape[1]:\n",
    "        logits = np.pad(\n",
    "            logits,\n",
    "            [(0,0),(0,max_seq - logits.shape[1])],\n",
    "            'constant')\n",
    "\n",
    "    return np.mean(np.equal(target, logits))\n",
    "\n",
    "# Split data to training and validation sets\n",
    "train_source = source_int_text[batch_size:]\n",
    "train_target = target_int_text[batch_size:]\n",
    "valid_source = source_int_text[:batch_size]\n",
    "valid_target = target_int_text[:batch_size]\n",
    "(valid_sources_batch, valid_targets_batch, valid_sources_lengths, valid_targets_lengths ) = next(get_batches(valid_source,\n",
    "                                                                                                             valid_target,\n",
    "                                                                                                             batch_size,\n",
    "                                                                                                             source_vocab_to_int['<PAD>'],\n",
    "                                                                                                             target_vocab_to_int['<PAD>']))                                                                                                  \n",
    "with tf.Session(graph=train_graph) as sess:\n",
    "    sess.run(tf.global_variables_initializer())\n",
    "\n",
    "    for epoch_i in range(epochs):\n",
    "        for batch_i, (source_batch, target_batch, sources_lengths, targets_lengths) in enumerate(\n",
    "                get_batches(train_source, train_target, batch_size,\n",
    "                            source_vocab_to_int['<PAD>'],\n",
    "                            target_vocab_to_int['<PAD>'])):\n",
    "\n",
    "            _, loss = sess.run(\n",
    "                [train_op, cost],\n",
    "                {input_data: source_batch,\n",
    "                 targets: target_batch,\n",
    "                 lr: learning_rate,\n",
    "                 target_sequence_length: targets_lengths,\n",
    "                 source_sequence_length: sources_lengths,\n",
    "                 keep_prob: keep_probability})\n",
    "\n",
    "\n",
    "            if batch_i % display_step == 0 and batch_i > 0:\n",
    "\n",
    "\n",
    "                batch_train_logits = sess.run(\n",
    "                    inference_logits,\n",
    "                    {input_data: source_batch,\n",
    "                     source_sequence_length: sources_lengths,\n",
    "                     target_sequence_length: targets_lengths,\n",
    "                     keep_prob: 1.0})\n",
    "\n",
    "\n",
    "                batch_valid_logits = sess.run(\n",
    "                    inference_logits,\n",
    "                    {input_data: valid_sources_batch,\n",
    "                     source_sequence_length: valid_sources_lengths,\n",
    "                     target_sequence_length: valid_targets_lengths,\n",
    "                     keep_prob: 1.0})\n",
    "\n",
    "                train_acc = get_accuracy(target_batch, batch_train_logits)\n",
    "\n",
    "                valid_acc = get_accuracy(valid_targets_batch, batch_valid_logits)\n",
    "\n",
    "                print('Epoch {:>3} Batch {:>4}/{} - Train Accuracy: {:>6.4f}, Validation Accuracy: {:>6.4f}, Loss: {:>6.4f}'\n",
    "                      .format(epoch_i, batch_i, len(source_int_text) // batch_size, train_acc, valid_acc, loss))\n",
    "\n",
    "    # Save Model\n",
    "    saver = tf.train.Saver()\n",
    "    saver.save(sess, save_path)\n",
    "    print('Model Trained and Saved')"
   ]
  },
  {
   "cell_type": "markdown",
   "metadata": {},
   "source": [
    "### Save Parameters\n",
    "Save the `batch_size` and `save_path` parameters for inference."
   ]
  },
  {
   "cell_type": "code",
   "execution_count": 210,
   "metadata": {
    "collapsed": true
   },
   "outputs": [],
   "source": [
    "\"\"\"\n",
    "DON'T MODIFY ANYTHING IN THIS CELL\n",
    "\"\"\"\n",
    "# Save parameters for checkpoint\n",
    "helper.save_params(save_path)"
   ]
  },
  {
   "cell_type": "markdown",
   "metadata": {},
   "source": [
    "# Checkpoint"
   ]
  },
  {
   "cell_type": "code",
   "execution_count": 211,
   "metadata": {
    "collapsed": true
   },
   "outputs": [],
   "source": [
    "\"\"\"\n",
    "DON'T MODIFY ANYTHING IN THIS CELL\n",
    "\"\"\"\n",
    "import tensorflow as tf\n",
    "import numpy as np\n",
    "import helper\n",
    "import problem_unittests as tests\n",
    "\n",
    "_, (source_vocab_to_int, target_vocab_to_int), (source_int_to_vocab, target_int_to_vocab) = helper.load_preprocess()\n",
    "load_path = helper.load_params()"
   ]
  },
  {
   "cell_type": "markdown",
   "metadata": {},
   "source": [
    "## Sentence to Sequence\n",
    "To feed a sentence into the model for translation, you first need to preprocess it.  Implement the function `sentence_to_seq()` to preprocess new sentences.\n",
    "\n",
    "- Convert the sentence to lowercase\n",
    "- Convert words into ids using `vocab_to_int`\n",
    " - Convert words not in the vocabulary, to the `<UNK>` word id."
   ]
  },
  {
   "cell_type": "code",
   "execution_count": 212,
   "metadata": {},
   "outputs": [
    {
     "name": "stdout",
     "output_type": "stream",
     "text": [
      "Tests Passed\n"
     ]
    }
   ],
   "source": [
    "def sentence_to_seq(sentence, vocab_to_int):\n",
    "    \"\"\"\n",
    "    Convert a sentence to a sequence of ids\n",
    "    :param sentence: String\n",
    "    :param vocab_to_int: Dictionary to go from the words to an id\n",
    "    :return: List of word ids\n",
    "    \"\"\"\n",
    "    # TODO: Implement Function\n",
    "    return [vocab_to_int.get(word, vocab_to_int['<UNK>']) for word in sentence.split()]\n",
    "\n",
    "\n",
    "\"\"\"\n",
    "DON'T MODIFY ANYTHING IN THIS CELL THAT IS BELOW THIS LINE\n",
    "\"\"\"\n",
    "tests.test_sentence_to_seq(sentence_to_seq)"
   ]
  },
  {
   "cell_type": "markdown",
   "metadata": {},
   "source": [
    "## Translate\n",
    "This will translate `translate_sentence` from English to French."
   ]
  },
  {
   "cell_type": "code",
   "execution_count": 216,
   "metadata": {},
   "outputs": [
    {
     "name": "stdout",
     "output_type": "stream",
     "text": [
      "INFO:tensorflow:Restoring parameters from checkpoints/dev\n",
      "Input\n",
      "  Word Ids:      [108, 43, 45, 16, 73, 29, 219]\n",
      "  English Words: ['he', 'saw', 'a', 'old', 'yellow', 'truck', '.']\n",
      "\n",
      "Prediction\n",
      "  Word Ids:      [258, 279, 287, 231, 176, 69, 161, 256, 1]\n",
      "  French Words: il a vu le vieux camion vert . <EOS>\n"
     ]
    }
   ],
   "source": [
    "translate_sentence = 'he saw a old yellow truck .'\n",
    "\n",
    "\n",
    "\"\"\"\n",
    "DON'T MODIFY ANYTHING IN THIS CELL\n",
    "\"\"\"\n",
    "translate_sentence = sentence_to_seq(translate_sentence, source_vocab_to_int)\n",
    "\n",
    "loaded_graph = tf.Graph()\n",
    "with tf.Session(graph=loaded_graph) as sess:\n",
    "    # Load saved model\n",
    "    loader = tf.train.import_meta_graph(load_path + '.meta')\n",
    "    loader.restore(sess, load_path)\n",
    "\n",
    "    input_data = loaded_graph.get_tensor_by_name('input:0')\n",
    "    logits = loaded_graph.get_tensor_by_name('predictions:0')\n",
    "    target_sequence_length = loaded_graph.get_tensor_by_name('target_sequence_length:0')\n",
    "    source_sequence_length = loaded_graph.get_tensor_by_name('source_sequence_length:0')\n",
    "    keep_prob = loaded_graph.get_tensor_by_name('keep_prob:0')\n",
    "\n",
    "    translate_logits = sess.run(logits, {input_data: [translate_sentence]*batch_size,\n",
    "                                         target_sequence_length: [len(translate_sentence)*2]*batch_size,\n",
    "                                         source_sequence_length: [len(translate_sentence)]*batch_size,\n",
    "                                         keep_prob: 1.0})[0]\n",
    "\n",
    "print('Input')\n",
    "print('  Word Ids:      {}'.format([i for i in translate_sentence]))\n",
    "print('  English Words: {}'.format([source_int_to_vocab[i] for i in translate_sentence]))\n",
    "\n",
    "print('\\nPrediction')\n",
    "print('  Word Ids:      {}'.format([i for i in translate_logits]))\n",
    "print('  French Words: {}'.format(\" \".join([target_int_to_vocab[i] for i in translate_logits])))\n"
   ]
  },
  {
   "cell_type": "markdown",
   "metadata": {},
   "source": [
    "# Imperfect Translation\n",
    "You might notice that some sentences translate better than others.  Since the dataset you're using only has a vocabulary of 227 English words of the thousands that you use, you're only going to see good results using these words.  For this project, you don't need a perfect translation. However, if you want to create a better translation model, you'll need better data.\n",
    "\n",
    "You can train on the [WMT10 French-English corpus](http://www.statmt.org/wmt10/training-giga-fren.tar).  This dataset has more vocabulary and richer in topics discussed.  However, this will take you days to train, so make sure you've a GPU and the neural network is performing well on dataset we provided.  Just make sure you play with the WMT10 corpus after you've submitted this project.\n",
    "## Submitting This Project\n",
    "When submitting this project, make sure to run all the cells before saving the notebook. Save the notebook file as \"dlnd_language_translation.ipynb\" and save it as a HTML file under \"File\" -> \"Download as\". Include the \"helper.py\" and \"problem_unittests.py\" files in your submission."
   ]
  }
 ],
 "metadata": {
  "anaconda-cloud": {},
  "kernelspec": {
   "display_name": "Python 3",
   "language": "python",
   "name": "python3"
  },
  "language_info": {
   "codemirror_mode": {
    "name": "ipython",
    "version": 3
   },
   "file_extension": ".py",
   "mimetype": "text/x-python",
   "name": "python",
   "nbconvert_exporter": "python",
   "pygments_lexer": "ipython3",
   "version": "3.5.3"
  }
 },
 "nbformat": 4,
 "nbformat_minor": 1
}
